{
 "cells": [
  {
   "attachments": {},
   "cell_type": "markdown",
   "metadata": {},
   "source": [
    "## Cross Validation\n",
    "\n",
    "Cross validation is a technique used to find how well our ML Model does on unseen data. It helps adjust the training and test data set so that our ML model sees more of the data & help improve the accuracy. \n",
    "\n",
    "### Types of Cross Validation\n",
    "- Hold Out Method\n",
    "- Leave One Out Cross-Validation\n",
    "- K-Fold Cross Validation\n",
    "- Stratified k-Fold Cross Validation\n",
    "\n",
    "Let us now understand them one by one"
   ]
  },
  {
   "attachments": {},
   "cell_type": "markdown",
   "metadata": {},
   "source": [
    "## Hold Out Method\n",
    "\n",
    "The simplest cross validation method where the data is split into 2 sets, a training and a test. The split is donebased on % i.e. 70-30 or 60-40 or 75-25 or even 50-50 depending on use case.\n",
    "\n",
    "Let us see the implementation next...\n",
    "\n",
    "- test_size -> split % of data to be used at test data. Here we use 30% as test data 70% as training\n",
    "- random_state -> Controls the shuffling applied to the data before applying the split"
   ]
  },
  {
   "cell_type": "code",
   "execution_count": 4,
   "metadata": {},
   "outputs": [
    {
     "name": "stdout",
     "output_type": "stream",
     "text": [
      "Train: [50, 10, 40, 20, 80, 90, 60] Test: [30, 100, 70]\n"
     ]
    }
   ],
   "source": [
    "from sklearn.model_selection import train_test_split\n",
    "X = [10, 20, 30, 40, 50, 60, 70, 80, 90, 100]\n",
    "X_train, X_test= train_test_split(X, test_size=0.3, random_state=1)\n",
    "print('Train:', X_train, 'Test:', X_test)"
   ]
  },
  {
   "attachments": {},
   "cell_type": "markdown",
   "metadata": {},
   "source": [
    "## Leave One Out Cross-Validation\n",
    "\n",
    "Same as Hold Out Method but a single sample is taken as test data and rest all as training data. This process is repeated over entire data set so that each data acts as test data at least once.\n",
    "\n",
    "As seen in the output, the test data contains only a single sample\n"
   ]
  },
  {
   "cell_type": "code",
   "execution_count": 5,
   "metadata": {},
   "outputs": [
    {
     "name": "stdout",
     "output_type": "stream",
     "text": [
      "[1 2 3 4 5 6 7 8 9] [0]\n",
      "[0 2 3 4 5 6 7 8 9] [1]\n",
      "[0 1 3 4 5 6 7 8 9] [2]\n",
      "[0 1 2 4 5 6 7 8 9] [3]\n",
      "[0 1 2 3 5 6 7 8 9] [4]\n",
      "[0 1 2 3 4 6 7 8 9] [5]\n",
      "[0 1 2 3 4 5 7 8 9] [6]\n",
      "[0 1 2 3 4 5 6 8 9] [7]\n",
      "[0 1 2 3 4 5 6 7 9] [8]\n",
      "[0 1 2 3 4 5 6 7 8] [9]\n"
     ]
    }
   ],
   "source": [
    "from sklearn.model_selection import LeaveOneOut\n",
    "X = [10,20,30,40,50,60,70,80,90,100]\n",
    "l = LeaveOneOut()\n",
    "for train, test in l.split(X):\n",
    "    print(\"%s %s\"% (train,test))"
   ]
  },
  {
   "attachments": {},
   "cell_type": "markdown",
   "metadata": {},
   "source": [
    "## K-Fold Cross Validation\n",
    "\n",
    "The whole data is divided into k sets of almost equal sizes called `fold`. The first set is selected as the test set and the model is trained on the remaining k-1 sets. The test error rate is then calculated after fitting the model to the test data. The process is repeated by using each of the `fold/s` as test at least once.\n",
    "\n",
    "- n_split -> Number of folds"
   ]
  },
  {
   "cell_type": "code",
   "execution_count": 6,
   "metadata": {},
   "outputs": [
    {
     "name": "stdout",
     "output_type": "stream",
     "text": [
      "Train data [2 3 4 5] Test data [0 1]\n",
      "Train data [0 1 4 5] Test data [2 3]\n",
      "Train data [0 1 2 3] Test data [4 5]\n"
     ]
    }
   ],
   "source": [
    "from sklearn.model_selection import KFold\n",
    "X = [\"a\",'b','c','d','e','f']\n",
    "kf = KFold(n_splits=3, shuffle=False, random_state=None)\n",
    "for train, test in kf.split(X):\n",
    "    print(\"Train data\",train,\"Test data\",test)"
   ]
  },
  {
   "attachments": {},
   "cell_type": "markdown",
   "metadata": {},
   "source": [
    "## Stratified K-Fold Cross Validation\n",
    "\n",
    "Slight variation from K-Fold Cross Validation, which uses ‘stratified sampling’ instead of ‘random sampling.’ This helps further reduce bias by carefully choosing the `fold/s` instead of randomly forming them."
   ]
  },
  {
   "cell_type": "code",
   "execution_count": 7,
   "metadata": {},
   "outputs": [
    {
     "name": "stdout",
     "output_type": "stream",
     "text": [
      "Train: [1 3 4 5] Test: [0 2]\n",
      "Train: [0 2 3 5] Test: [1 4]\n",
      "Train: [0 1 2 4] Test: [3 5]\n"
     ]
    }
   ],
   "source": [
    "from sklearn.model_selection import StratifiedKFold\n",
    "import numpy as np\n",
    "X = np.array([[1,2],[3,4],[5,6],[7,8],[9,10],[11,12]])\n",
    "y= np.array([0,0,1,0,1,1])\n",
    "\n",
    "skf = StratifiedKFold(n_splits=3,random_state=None,shuffle=False)\n",
    "\n",
    "for train_index,test_index in skf.split(X,y):\n",
    "    print(\"Train:\",train_index,'Test:',test_index)\n",
    "    X_train,X_test = X[train_index], X[test_index]\n",
    "    y_train,y_test = y[train_index], y[test_index]"
   ]
  },
  {
   "attachments": {},
   "cell_type": "markdown",
   "metadata": {},
   "source": [
    "## Bias-Variance Tradeoff\n",
    "\n",
    "| Cross Validation Method  |  Variance |  Bias  |\n",
    "|---|---|---|\n",
    "|  Hold One Out | High |  High |\n",
    "| Leave One Out | Moderate  | Lowest  |\n",
    "| K-Fold  |  Low  | Low  |\n",
    "| Stratified K-Fold  | Low  | Low  |\n"
   ]
  },
  {
   "cell_type": "markdown",
   "metadata": {},
   "source": [
    "## Pro Tip\n",
    "\n",
    "sklearn.model_selection has a method `cross_val_score` which simplifies the process of cross-validation. Instead of iterating through the complete data using the `split` function, we can use `cross_val_score` and check the accuracy score for the chosen cross-validation method"
   ]
  },
  {
   "cell_type": "markdown",
   "metadata": {},
   "source": [
    "## Implementing Cross Valdation on used car price dataset"
   ]
  }
 ],
 "metadata": {
  "kernelspec": {
   "display_name": "mlplayground",
   "language": "python",
   "name": "python3"
  },
  "language_info": {
   "codemirror_mode": {
    "name": "ipython",
    "version": 3
   },
   "file_extension": ".py",
   "mimetype": "text/x-python",
   "name": "python",
   "nbconvert_exporter": "python",
   "pygments_lexer": "ipython3",
   "version": "3.11.3"
  },
  "orig_nbformat": 4
 },
 "nbformat": 4,
 "nbformat_minor": 2
}
